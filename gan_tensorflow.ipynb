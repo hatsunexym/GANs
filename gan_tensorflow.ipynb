{
  "nbformat": 4,
  "nbformat_minor": 0,
  "metadata": {
    "colab": {
      "name": "gan_tensorflow.ipynb",
      "version": "0.3.2",
      "provenance": [],
      "collapsed_sections": []
    },
    "kernelspec": {
      "name": "python3",
      "display_name": "Python 3"
    }
  },
  "cells": [
    {
      "metadata": {
        "id": "EwfTmTVza1XK",
        "colab_type": "code",
        "outputId": "13f543ff-ce76-4aa1-a4d8-38d982877ec2",
        "colab": {
          "base_uri": "https://localhost:8080/",
          "height": 54
        }
      },
      "cell_type": "code",
      "source": [
        "'''\n",
        "================Part1. Understanding GAN models basic concepts==================\n",
        "Reference:\n",
        "1. What are two basic part in generative model?\t\n",
        "      Ans: The generator and the discriminator.\n",
        "2. What is the specific objective of these two part?\t\n",
        "      Ans: <G>: 尽可能拟合真实数据的分布，并利用噪声数据生成可以干扰判别器的判别的假样本。\n",
        "           <D>: 二分类器,尽可能提升分类精度,分辨生成样本和真实样本集之间的区别.\n",
        "3. What is the basic loss function of GAN.\t\n",
        "      Ans: Cross Entropy by minmax(V(G,D)). V is accuracy. log(1-D(G())\n",
        "4. What is training\tprocess of basic GAN model?\t\n",
        "      Ans: 先训练判别器,让他熟悉真实数据的样本.此时停止生成器的反向传播;\n",
        "           再训练生成器,此时停止判别器的反向传播训练,让它尽可能拟合真实数据分布情况\n",
        "\n",
        "Comprehension of Code\n",
        "Ques1.\n",
        "      Dataset: MNIST dataset(LeCun) by using 'from tensorflow.examples.tutorials.mnist import input_data'\n",
        "      Model:   就是D和G的图。噪声数据进G,输出G_image;将G_image和Real_image喂给D,输出0或1\n",
        "      Loss:    Cross Entropy, 这里D是tf.reduce_mean(-tf.log(D_real + eps) - tf.log(1 - D_fake + eps))\n",
        "                                 G是tf.reduce_mean(-tf.log(D_fake + eps))\n",
        "      Training:epoch=100,先D后G,D训练的时候停止G的BP;G训练的时候停止D的BP\n",
        "      Test:    show_result((epoch + 1), save=True, path=p),save model\n",
        "Ques2.\n",
        "hint:用的Adam来做梯度下降\n",
        "\n",
        "\n",
        "\n",
        "\n",
        "================Part2. GANs with TF==================\n",
        "Ques before task:\n",
        "1. What is dropout in deep learning and its advantages.\n",
        "      Ans: 用于在BP过程中随机使同层某些节点失活,keep_prob=0.5代表使50%的神经元失活,其余变成原来的1/keep_prob.每一次迭代中失活结点都是随机的.\n",
        "           优点是在避免过拟合的同时节省每一次BP计算中的计算成本\n",
        "2. List some typical optimizers in deep learning.\t\n",
        "      Ans: SGD, BGD, Adam, Momentum, RMSprop(其实都是SGD,只是为SGD自迭代加了约束alpha和beta)\n",
        "3. What optimizer we used for training in this case.\t\n",
        "      Ans: Adam\n",
        "4. How do D-loss and G-loss change during training? Visualize how the D-loss and D-loss change during training and explain why.\n",
        "      Ans: 看图,Task1中三次改变超参后的Dloss和Gloss折线图已经保存在googledoc中了\n",
        "\n",
        "'''"
      ],
      "execution_count": 0,
      "outputs": [
        {
          "output_type": "execute_result",
          "data": {
            "text/plain": [
              "\"\\n================Part1. Understanding GAN models basic concepts==================\\nReference:\\n1. What are two basic part in generative model?\\t\\n      Ans: The generator and the discriminator.\\n2. What is the specific objective of these two part?\\t\\n      Ans: <G>: 尽可能拟合真实数据的分布，并利用噪声数据生成可以干扰判别器的判别的假样本。\\n           <D>: 二分类器,尽可能提升分类精度,分辨生成样本和真实样本集之间的区别.\\n3. What is the basic loss function of GAN.\\t\\n      Ans: Cross Entropy by minmax(V(G,D)). V is accuracy. log(1-D(G())\\n4. What is training\\tprocess of basic GAN model?\\t\\n      Ans: 先训练判别器,让他熟悉真实数据的样本.此时停止生成器的反向传播;\\n           再训练生成器,此时停止判别器的反向传播训练,让它尽可能拟合真实数据分布情况\\n\\nComprehension of Code\\nQues1.\\n      Dataset: MNIST dataset(LeCun) by using 'from tensorflow.examples.tutorials.mnist import input_data'\\n      Model:   就是D和G的图。噪声数据进G,输出G_image;将G_image和Real_image喂给D,输出0或1\\n      Loss:    Cross Entropy, 这里D是tf.reduce_mean(-tf.log(D_real + eps) - tf.log(1 - D_fake + eps))\\n                                 G是tf.reduce_mean(-tf.log(D_fake + eps))\\n      Training:epoch=100,先D后G,D训练的时候停止G的BP;G训练的时候停止D的BP\\n      Test:    show_result((epoch + 1), save=True, path=p),save model\\nQues2.\\nhint:用的Adam来做梯度下降\\n\\n\\n\\n\\n================Part2. GANs with TF==================\\nQues before task:\\n1. What is dropout in deep learning and its advantages.\\n      Ans: 用于在BP过程中随机使同层某些节点失活,keep_prob=0.5代表使50%的神经元失活,其余变成原来的1/keep_prob.每一次迭代中失活结点都是随机的.\\n           优点是在避免过拟合的同时节省每一次BP计算中的计算成本\\n2. List some typical optimizers in deep learning.\\t\\n      Ans: SGD, BGD, Adam, Momentum, RMSprop(其实都是SGD,只是为SGD自迭代加了约束alpha和beta)\\n3. What optimizer we used for training in this case.\\t\\n      Ans: Adam\\n4. How do D-loss and G-loss change during training? Visualize how the D-loss and D-loss change during training and explain why.\\n      Ans: 看图,Task1中三次改变超参后的Dloss和Gloss折线图已经保存在googledoc中了\\n\\n\""
            ]
          },
          "metadata": {
            "tags": []
          },
          "execution_count": 1
        }
      ]
    },
    {
      "metadata": {
        "id": "hLj77yTsC47U",
        "colab_type": "code",
        "colab": {}
      },
      "cell_type": "code",
      "source": [
        ""
      ],
      "execution_count": 0,
      "outputs": []
    },
    {
      "metadata": {
        "id": "p2DxmHnYb2Ht",
        "colab_type": "code",
        "colab": {}
      },
      "cell_type": "code",
      "source": [
        "import os, time, itertools, pickle\n",
        "import numpy as np\n",
        "import matplotlib.pyplot as plt\n",
        "import tensorflow as tf\n",
        "from tensorflow.examples.tutorials.mnist import input_data\n",
        "\n",
        "#hint:每一次执行完之后都要复位计算图以免重复使用相同变量而报错\n",
        "tf.reset_default_graph() "
      ],
      "execution_count": 0,
      "outputs": []
    },
    {
      "metadata": {
        "id": "nlWbYz9vjNkk",
        "colab_type": "code",
        "colab": {}
      },
      "cell_type": "code",
      "source": [
        "# G(z)\n",
        "#============================Original G(z)======================================\n",
        "def generator_ori(x):\n",
        "    # initializers\n",
        "    w_init = tf.truncated_normal_initializer(mean=0, stddev=0.02)#生成截断正态分布.\n",
        "    b_init = tf.constant_initializer(0.)#也可以简写为tf.Constant(),初始化为常数，通常偏置项bias用它初始化的。\n",
        "    # 1st hidden layer\n",
        "    #创建变量G_Weight_layer1,维度[x.列数, 128]\n",
        "    w0 = tf.get_variable('G_w0', [x.get_shape()[1], 128], initializer=w_init)\n",
        "    b0 = tf.get_variable('G_b0', [128], initializer=b_init)#创建变量G_bias_layer1,维度[128,1]\n",
        "    h0 = tf.nn.relu(tf.matmul(x, w0) + b0)#layer1 relu激活\n",
        "    # output hidden layer\n",
        "    w1 = tf.get_variable('G_w1', [h0.get_shape()[1], 784], initializer=w_init)#创建变量G_Weight_output,维度[layer1_output.列数, 784],784=28*28\n",
        "    b1 = tf.get_variable('G_b1', [784], initializer=b_init)#创建变量G_bias_output,维度[784,1]\n",
        "    o = tf.nn.tanh(tf.matmul(h0, w1) + b1)#output tanh激活(-1到1之间)\n",
        "    return o\n",
        "  \n",
        "  \n",
        "  \n",
        "  \n",
        "#============================ToDO code1. new G(z)===============================\n",
        "### Code:ToDO( Change the architecture as CW2 Guidance required)    \n",
        "def generator(x):\n",
        "    # initializers\n",
        "    w_init = tf.truncated_normal_initializer(mean=0, stddev=0.02)#生成截断正态分布.\n",
        "    b_init = tf.constant_initializer(0.)#也可以简写为tf.Constant(),初始化为常数，通常偏置项bias用它初始化的。\n",
        "    # 1st hidden layer\n",
        "    w0 = tf.get_variable('G_w0', [x.get_shape()[1], 256], initializer=w_init)#创建变量G_Weight_layer1,维度[x.列数, 256]\n",
        "    b0 = tf.get_variable('G_b0', [256], initializer=b_init)#创建变量G_bias_layer1,维度[256,1]\n",
        "    h0 = tf.nn.leaky_relu(tf.matmul(x, w0) + b0)#layer1 leaky_relu激活\n",
        "    # 2nd hidden layer\n",
        "    w1 = tf.get_variable('G_w1', [h0.get_shape()[1], 512], initializer=w_init)#创建变量G_Weight_layer2,维度[h0.列数, 512]\n",
        "    b1 = tf.get_variable('G_b1', [512], initializer=b_init)#创建变量G_bias_layer2,维度[512,1]\n",
        "    h1 = tf.nn.leaky_relu(tf.matmul(h0, w1) + b1)#layer2 leaky_relu激活    \n",
        "    # 3rd hidden layer\n",
        "    w2 = tf.get_variable('G_w2', [h1.get_shape()[1], 1024], initializer=w_init)#创建变量G_Weight_layer3,维度[h1.列数, 1024]\n",
        "    b2 = tf.get_variable('G_b2', [1024], initializer=b_init)#创建变量G_bias_layer3,维度[1024,1]\n",
        "    h2 = tf.nn.leaky_relu(tf.matmul(h1, w2) + b2)#layer3 leaky_relu激活     \n",
        "    # output hidden layer\n",
        "    w_out = tf.get_variable('G_wout', [h2.get_shape()[1], 784], initializer=w_init)#创建变量G_Weight_output,维度[layer1_output.列数, 784],784=28*28\n",
        "    b_out = tf.get_variable('G_bout', [784], initializer=b_init)#创建变量G_bias_output,维度[784,1]\n",
        "    o = tf.nn.tanh(tf.matmul(h2, w_out) + b_out)#output tanh激活(-1到1之间)\n",
        "    return o"
      ],
      "execution_count": 0,
      "outputs": []
    },
    {
      "metadata": {
        "id": "zCu6C6WMjTQ0",
        "colab_type": "code",
        "colab": {}
      },
      "cell_type": "code",
      "source": [
        "# D(x)\n",
        "#============================Original D(x)======================================\n",
        "def discriminator_ori(x, drop_out):\n",
        "    # initializers\n",
        "    w_init = tf.truncated_normal_initializer(mean=0, stddev=0.02)#生成截断正态分布.\n",
        "    b_init = tf.constant_initializer(0.)#也可以简写为tf.Constant(),初始化为常数，通常偏置项bias用它初始化的。\n",
        "    # 1st hidden layer\n",
        "    w0 = tf.get_variable('D_w0', [x.get_shape()[1], 784], initializer=w_init)#因为输入就是MNIST的28x28图片,拉直为784.创建变量D_Weight_layer1,维度[x.列数, 784]\n",
        "    b0 = tf.get_variable('D_b0', [784], initializer=b_init)#创建变量D_bias_layer1,维度[784,1]\n",
        "    h0 = tf.nn.relu(tf.matmul(x, w0) + b0)#layer1 relu激活\n",
        "    # output layer\n",
        "    w1 = tf.get_variable('D_w1', [h0.get_shape()[1], 1], initializer=w_init)#创建变量D_Weight_output,维度[layer1_output.列数, 1]\n",
        "    b1 = tf.get_variable('D_b1', [1], initializer=b_init)#创建变量D_bas_output,维度[1,1]\n",
        "    o = tf.sigmoid(tf.matmul(h0, w1) + b1)#output sigmoid激活(0到1之间),判断是或不是real\n",
        "\n",
        "    return o\n",
        "\n",
        "  \n",
        "  \n",
        "  \n",
        "#=============================ToDO code1. new D(x)==============================\n",
        "###  Code: ToDO( Change the architecture as CW2 Guidance required)\n",
        "def discriminator(x, drop_out):#drop_out已经在后面通过占位的形式传入了，默认是0.3\n",
        "    # initializers\n",
        "    w_init = tf.truncated_normal_initializer(mean=0, stddev=0.02)#生成截断正态分布.\n",
        "    b_init = tf.constant_initializer(0.)#也可以简写为tf.Constant(),初始化为常数，通常偏置项bias用它初始化的。\n",
        "    # 1st hidden layer\n",
        "    w0 = tf.get_variable('D_w0', [x.get_shape()[1], 1024], initializer=w_init)#因为输入就是MNIST的28x28图片,拉直为784.创建变量D_Weight_layer1,维度[x.列数, 1024]\n",
        "    b0 = tf.get_variable('D_b0', [1024], initializer=b_init)#创建变量D_bias_layer1,维度[1024,1]\n",
        "    h0_ = tf.nn.leaky_relu(tf.matmul(x, w0) + b0)#layer1 leaky_relu激活\n",
        "      #drop out\n",
        "    h0 = tf.nn.dropout(h0_, keep_prob=drop_out)\n",
        "    # 2nd hidden layer\n",
        "    w1 = tf.get_variable('D_w1', [h0.get_shape()[1], 512], initializer=w_init)\n",
        "    b1 = tf.get_variable('D_b1', [512], initializer=b_init)\n",
        "    h1_ = tf.nn.leaky_relu(tf.matmul(h0, w1) + b1)#layer2 leaky_relu激活\n",
        "       #drop out\n",
        "    h1 = tf.nn.dropout(h1_, keep_prob=drop_out)       \n",
        "    # 3rd hidden layer\n",
        "    w2 = tf.get_variable('D_w2', [h1.get_shape()[1], 256], initializer=w_init)\n",
        "    b2 = tf.get_variable('D_b2', [256], initializer=b_init)\n",
        "    h2_ = tf.nn.leaky_relu(tf.matmul(h1, w2) + b2)#layer3 leaky_relu激活\n",
        "       #drop out\n",
        "    h2 = tf.nn.dropout(h2_, keep_prob=drop_out)           \n",
        "    # output layer\n",
        "    w_out = tf.get_variable('D_wout', [h2.get_shape()[1], 1], initializer=w_init)#创建变量D_Weight_output,维度[layer1_output.列数, 1]\n",
        "    b_out = tf.get_variable('D_bout', [1], initializer=b_init)#创建变量D_bas_output,维度[1,1]\n",
        "    o = tf.sigmoid(tf.matmul(h2, w_out) + b_out)#output sigmoid激活(0到1之间),判断是或不是real\n",
        "\n",
        "    return o"
      ],
      "execution_count": 0,
      "outputs": []
    },
    {
      "metadata": {
        "id": "kUUvm4SpjV7l",
        "colab_type": "code",
        "colab": {}
      },
      "cell_type": "code",
      "source": [
        "def show_result(num_epoch, show = False, save = False, path = 'result.png'):\n",
        "    z_ = np.random.normal(0, 1, (25, 100))    # z_ is the input of generator, every epochs will random produce input\n",
        "    ##Code:ToDo complete the rest of part\n",
        "    \n",
        "    test_images = sess.run(G_z, {z: z_})#输出25x784的经过tanh处理的向量，也就是有25张图，每张图是28x28=784\n",
        "    fig, ax = plt.subplots(5, 5)\n",
        "    #利用itertolls迭代器隐藏每一张子图的坐标轴\n",
        "    for i, j in itertools.product(range(5), range(5)):\n",
        "        ax[i, j].get_xaxis().set_visible(False)\n",
        "        ax[i, j].get_yaxis().set_visible(False)\n",
        "    for k in range(5*5):\n",
        "        i = k // 5\n",
        "        j = k % 5\n",
        "        ax[i, j].cla()#清除坐标区域\n",
        "        ax[i, j].imshow(np.reshape(test_images[k], (28, 28)), cmap='gray')#重新定型并展示\n",
        "    label = 'Step {0}'.format(num_epoch)\n",
        "    fig.text(0.5, 0.04, label, ha='center')\n",
        "    if save:\n",
        "        plt.savefig(path)\n",
        "    if show:\n",
        "        plt.show()\n",
        "    else:\n",
        "        plt.close()\n"
      ],
      "execution_count": 0,
      "outputs": []
    },
    {
      "metadata": {
        "id": "0Siu1Q_DjXpU",
        "colab_type": "code",
        "colab": {}
      },
      "cell_type": "code",
      "source": [
        "'''\n",
        "后期创建一个train_hist字典,用于存放D_losses, G_losses, per_epoch_ptimes, total_ptime\n",
        "经过迭代以这样的形式打印,其中ptime, loss_d, loss_g是train_hist中对应标签的数据\n",
        "    [1/100] - ptime: 20.01 loss_d: 0.510, loss_g: 1.048\n",
        "这里可以将show改为True则会用matplotlib将迭代的图显示出来,在终端或最后的块中输入以下指令:\n",
        "    show_train_hist(train_hist, save=True, path='MNIST_GAN_results/MNIST_GAN_train_hist.png')\n",
        "图片已经保存至桌面,命名为First_temp_train_hist.png\n",
        "\n",
        "\n",
        "'''\n",
        "def show_train_hist(hist, show = True, save = False, path = 'Train_hist.png'):\n",
        "    x = range(len(hist['D_losses']))\n",
        "\n",
        "    y1 = hist['D_losses']\n",
        "    y2 = hist['G_losses']\n",
        "\n",
        "    plt.plot(x, y1, label='D_loss')\n",
        "    plt.plot(x, y2, label='G_loss')\n",
        "\n",
        "    plt.xlabel('Epoch')\n",
        "    plt.ylabel('Loss')\n",
        "\n",
        "    plt.legend(loc=4)\n",
        "    plt.grid(True)\n",
        "    plt.tight_layout()\n",
        "\n",
        "    if save:\n",
        "        plt.savefig(path)\n",
        "\n",
        "    if show:\n",
        "        plt.show()\n",
        "    else:\n",
        "        plt.close()"
      ],
      "execution_count": 0,
      "outputs": []
    },
    {
      "metadata": {
        "id": "u4-PSoakjZ20",
        "colab_type": "code",
        "outputId": "c6b175fa-accd-426f-eec8-96f5a9f8162e",
        "colab": {
          "base_uri": "https://localhost:8080/",
          "height": 544
        }
      },
      "cell_type": "code",
      "source": [
        "# training parameters\n",
        "#Ques1.3 change batch_size to 256\n",
        "batch_size = 100\n",
        "#batch_size = 256\n",
        "lr = 0.0002\n",
        "#Ques1.2 change learning rate to 0.01\n",
        "#lr = 0.01\n",
        "#Ques1.3 change epoch to 200\n",
        "train_epoch = 100\n",
        "#train_epoch = 200\n",
        "\n",
        "# load MNIST\n",
        "mnist = input_data.read_data_sets(\"MNIST_data/\", one_hot=True)#独热编码用于返回属于哪一个数字的向量,e.g 1=[0,1,0,0,0...0]\n",
        "train_set = (mnist.train.images - 0.5) / 0.5  # normalization; range: -1 ~ 1 by using [pix_val - 0.5]/0.5"
      ],
      "execution_count": 0,
      "outputs": [
        {
          "output_type": "stream",
          "text": [
            "WARNING:tensorflow:From <ipython-input-9-97bf64663fe5>:11: read_data_sets (from tensorflow.contrib.learn.python.learn.datasets.mnist) is deprecated and will be removed in a future version.\n",
            "Instructions for updating:\n",
            "Please use alternatives such as official/mnist/dataset.py from tensorflow/models.\n",
            "WARNING:tensorflow:From /usr/local/lib/python3.6/dist-packages/tensorflow/contrib/learn/python/learn/datasets/mnist.py:260: maybe_download (from tensorflow.contrib.learn.python.learn.datasets.base) is deprecated and will be removed in a future version.\n",
            "Instructions for updating:\n",
            "Please write your own downloading logic.\n",
            "WARNING:tensorflow:From /usr/local/lib/python3.6/dist-packages/tensorflow/contrib/learn/python/learn/datasets/base.py:252: _internal_retry.<locals>.wrap.<locals>.wrapped_fn (from tensorflow.contrib.learn.python.learn.datasets.base) is deprecated and will be removed in a future version.\n",
            "Instructions for updating:\n",
            "Please use urllib or similar directly.\n",
            "Successfully downloaded train-images-idx3-ubyte.gz 9912422 bytes.\n",
            "WARNING:tensorflow:From /usr/local/lib/python3.6/dist-packages/tensorflow/contrib/learn/python/learn/datasets/mnist.py:262: extract_images (from tensorflow.contrib.learn.python.learn.datasets.mnist) is deprecated and will be removed in a future version.\n",
            "Instructions for updating:\n",
            "Please use tf.data to implement this functionality.\n",
            "Extracting MNIST_data/train-images-idx3-ubyte.gz\n",
            "Successfully downloaded train-labels-idx1-ubyte.gz 28881 bytes.\n",
            "WARNING:tensorflow:From /usr/local/lib/python3.6/dist-packages/tensorflow/contrib/learn/python/learn/datasets/mnist.py:267: extract_labels (from tensorflow.contrib.learn.python.learn.datasets.mnist) is deprecated and will be removed in a future version.\n",
            "Instructions for updating:\n",
            "Please use tf.data to implement this functionality.\n",
            "Extracting MNIST_data/train-labels-idx1-ubyte.gz\n",
            "WARNING:tensorflow:From /usr/local/lib/python3.6/dist-packages/tensorflow/contrib/learn/python/learn/datasets/mnist.py:110: dense_to_one_hot (from tensorflow.contrib.learn.python.learn.datasets.mnist) is deprecated and will be removed in a future version.\n",
            "Instructions for updating:\n",
            "Please use tf.one_hot on tensors.\n",
            "Successfully downloaded t10k-images-idx3-ubyte.gz 1648877 bytes.\n",
            "Extracting MNIST_data/t10k-images-idx3-ubyte.gz\n",
            "Successfully downloaded t10k-labels-idx1-ubyte.gz 4542 bytes.\n",
            "Extracting MNIST_data/t10k-labels-idx1-ubyte.gz\n",
            "WARNING:tensorflow:From /usr/local/lib/python3.6/dist-packages/tensorflow/contrib/learn/python/learn/datasets/mnist.py:290: DataSet.__init__ (from tensorflow.contrib.learn.python.learn.datasets.mnist) is deprecated and will be removed in a future version.\n",
            "Instructions for updating:\n",
            "Please use alternatives such as official/mnist/dataset.py from tensorflow/models.\n"
          ],
          "name": "stdout"
        }
      ]
    },
    {
      "metadata": {
        "id": "841Uf0-ajbeV",
        "colab_type": "code",
        "outputId": "f6e86790-a6ec-49a5-a00f-af830167fa8b",
        "colab": {
          "base_uri": "https://localhost:8080/",
          "height": 89
        }
      },
      "cell_type": "code",
      "source": [
        "# networks : generator\n",
        "with tf.variable_scope('G'):#可变范围允许创建新的variable并分享已创建的variable.这里用于后面直接传入噪声数据用于生成\n",
        "    z = tf.placeholder(tf.float32, shape=(None, 100))\n",
        "    G_z = generator(z)\n"
      ],
      "execution_count": 0,
      "outputs": [
        {
          "output_type": "stream",
          "text": [
            "WARNING:tensorflow:From /usr/local/lib/python3.6/dist-packages/tensorflow/python/framework/op_def_library.py:263: colocate_with (from tensorflow.python.framework.ops) is deprecated and will be removed in a future version.\n",
            "Instructions for updating:\n",
            "Colocations handled automatically by placer.\n"
          ],
          "name": "stdout"
        }
      ]
    },
    {
      "metadata": {
        "id": "O_DdXxPzjdRk",
        "colab_type": "code",
        "outputId": "5c59515f-9384-4c48-9066-9a8ff379aa59",
        "colab": {
          "base_uri": "https://localhost:8080/",
          "height": 89
        }
      },
      "cell_type": "code",
      "source": [
        "# networks : discriminator\n",
        "with tf.variable_scope('D') as scope:\n",
        "    drop_out = tf.placeholder(dtype=tf.float32, name='drop_out')#在这里占位传入dropout系数,随机忽略神经元避免过拟合\n",
        "    x = tf.placeholder(tf.float32, shape=(None, 784))#x用于重复传入100次批梯度中每一批的数据\n",
        "    D_real = discriminator(x, drop_out)\n",
        "    scope.reuse_variables()#用于告诉TF想重复利用参数\n",
        "    D_fake = discriminator(G_z, drop_out)#G_z用于传入每一次生成的数据"
      ],
      "execution_count": 0,
      "outputs": [
        {
          "output_type": "stream",
          "text": [
            "WARNING:tensorflow:From <ipython-input-4-9f2f8f58bf49>:30: calling dropout (from tensorflow.python.ops.nn_ops) with keep_prob is deprecated and will be removed in a future version.\n",
            "Instructions for updating:\n",
            "Please use `rate` instead of `keep_prob`. Rate should be set to `rate = 1 - keep_prob`.\n"
          ],
          "name": "stdout"
        }
      ]
    },
    {
      "metadata": {
        "id": "hSYOk-46jex1",
        "colab_type": "code",
        "colab": {}
      },
      "cell_type": "code",
      "source": [
        "# loss for each network\n",
        "#==============================重点:定义D和G的损失函数===============================\n",
        "#eps指的是对数损失值,加入参数eps, 避免因预测概率输出为0或1进而导致的计算错误的情况\n",
        "eps = 1e-2\n",
        "#reduce_mean用于计算张量沿着指定的数轴（张量某一维度）上的的平均值，主要用作降维或者计算图像的平均值。这里括号内的是input_tensor,其他相关参数用来定义维度,轴信息,名称等\n",
        "#这里对原来的交叉熵公式进行了一下转换,目的是为了更稳定地进行梯度下降\n",
        "#hinge_loss\n",
        "D_loss = tf.reduce_mean(-tf.log(D_real + eps) - tf.log(1 - D_fake + eps))\n",
        "G_loss = tf.reduce_mean(-tf.log(D_fake + eps))"
      ],
      "execution_count": 0,
      "outputs": []
    },
    {
      "metadata": {
        "id": "Ifc5VFEzjgF1",
        "colab_type": "code",
        "colab": {}
      },
      "cell_type": "code",
      "source": [
        "# trainable variables for each network\n",
        "#返回所需训练的变量列表\n",
        "t_vars = tf.trainable_variables()\n",
        "#从t_vars提取D_vars和G_vars\n",
        "D_vars = [var for var in t_vars if 'D_' in var.name]\n",
        "G_vars = [var for var in t_vars if 'G_' in var.name]"
      ],
      "execution_count": 0,
      "outputs": []
    },
    {
      "metadata": {
        "id": "lXmp_PuijhMl",
        "colab_type": "code",
        "colab": {}
      },
      "cell_type": "code",
      "source": [
        "# optimizer for each network\n",
        "# 定义两个AdamGD优化器最小化loss\n",
        "D_optim = tf.train.AdamOptimizer(lr).minimize(D_loss, var_list=D_vars)\n",
        "G_optim = tf.train.AdamOptimizer(lr).minimize(G_loss, var_list=G_vars)"
      ],
      "execution_count": 0,
      "outputs": []
    },
    {
      "metadata": {
        "id": "D2ksFVeTjiRV",
        "colab_type": "code",
        "colab": {}
      },
      "cell_type": "code",
      "source": [
        "# open session and initialize all variables\n",
        "sess = tf.InteractiveSession()\n",
        "tf.global_variables_initializer().run()\n"
      ],
      "execution_count": 0,
      "outputs": []
    },
    {
      "metadata": {
        "id": "lis5xWRMjjSV",
        "colab_type": "code",
        "colab": {}
      },
      "cell_type": "code",
      "source": [
        "# results save folder\n",
        "#用于判断对象是否为一个文件\n",
        "if not os.path.isdir('MNIST_GAN_results'):\n",
        "#如果没有就建一个\n",
        "    os.mkdir('MNIST_GAN_results')\n",
        "if not os.path.isdir('MNIST_GAN_results/results'):\n",
        "    os.mkdir('MNIST_GAN_results/results')\n",
        "train_hist = {}\n",
        "train_hist['D_losses'] = []\n",
        "train_hist['G_losses'] = []\n",
        "train_hist['per_epoch_ptimes'] = []\n",
        "train_hist['total_ptime'] = []\n",
        "\n"
      ],
      "execution_count": 0,
      "outputs": []
    },
    {
      "metadata": {
        "id": "aaF9_PK8jki1",
        "colab_type": "code",
        "outputId": "6602ecad-ea92-4aa8-8221-fb0cd2b4f9b1",
        "colab": {
          "base_uri": "https://localhost:8080/",
          "height": 1767
        }
      },
      "cell_type": "code",
      "source": [
        "# training-loop\n",
        "#正式训练过程,利用随机数种子,每次生成的随机数相同.这里获取当前时间的时间戳秒\n",
        "np.random.seed(int(time.time()))\n",
        "start_time = time.time()\n",
        "for epoch in range(train_epoch):#0-100\n",
        "    G_losses = []\n",
        "    D_losses = []\n",
        "    epoch_start_time = time.time()\n",
        "    for iter in range(train_set.shape[0] // batch_size):#42000+张图分100批,向下取整\n",
        "      #在下面过程中默认训练D时候停止G的BP; 训练G的时候停止D的BP\n",
        "      \n",
        "        # update discriminator\n",
        "        x_ = train_set[iter*batch_size:(iter+1)*batch_size]#batch1:0-420个样本;\n",
        "        z_ = np.random.normal(0, 1, (batch_size, 100))#生成均值为0，标准差为1,大小(100,100)的高斯随机数作为G的输入latent data\n",
        "#keep_prob=1即可不进行dropout\n",
        "        loss_d_, _ = sess.run([D_loss, D_optim], {x: x_, z: z_, drop_out: 0.3})#算损失,算优化器,将样本数据, latent data和dropout系数赋给train_hist字典方便调用\n",
        "        D_losses.append(loss_d_)#将每一次batch计算的损失保存到D_loss列表中方便统计求均值\n",
        "\n",
        "        # update generator\n",
        "        z_ = np.random.normal(0, 1, (batch_size, 100))\n",
        "        loss_g_, _ = sess.run([G_loss, G_optim], {z: z_, drop_out: 0.3})#算损失,算优化器,将latent data和dropout系数赋给train_hist字典方便调用\n",
        "        G_losses.append(loss_g_)#将每一次batch计算的损失保存到G_loss列表中方便统计求均值\n",
        "\n",
        "    epoch_end_time = time.time()\n",
        "    per_epoch_ptime = epoch_end_time - epoch_start_time#单batch迭代结束,计算时间\n",
        "    print('[%d/%d] - ptime: %.2f loss_d: %.3f, loss_g: %.3f' % ((epoch + 1), train_epoch, per_epoch_ptime, np.mean(D_losses), np.mean(G_losses)))\n",
        "\n",
        "    ### Code: TODO Code complet show_result function)\n",
        "    p = 'MNIST_GAN_results/results/MNIST_GAN_' + str(epoch + 1) + '.png'\n",
        "    #在epoch=10，20，50，100的时候show\n",
        "    if (epoch == 9) | (epoch ==19) | (epoch ==49) | (epoch==99):\n",
        "      show_result((epoch + 1), show = False, save=True, path=p)\n",
        "    train_hist['D_losses'].append(np.mean(D_losses))\n",
        "    train_hist['G_losses'].append(np.mean(G_losses))\n",
        "    train_hist['per_epoch_ptimes'].append(per_epoch_ptime)"
      ],
      "execution_count": 0,
      "outputs": [
        {
          "output_type": "stream",
          "text": [
            "[1/100] - ptime: 53.81 loss_d: 0.773, loss_g: 1.982\n",
            "[2/100] - ptime: 54.50 loss_d: 0.770, loss_g: 1.890\n",
            "[3/100] - ptime: 53.85 loss_d: 0.833, loss_g: 1.729\n",
            "[4/100] - ptime: 54.84 loss_d: 0.847, loss_g: 1.626\n",
            "[5/100] - ptime: 54.71 loss_d: 0.839, loss_g: 1.727\n",
            "[6/100] - ptime: 54.86 loss_d: 0.871, loss_g: 1.629\n",
            "[7/100] - ptime: 53.53 loss_d: 0.919, loss_g: 1.489\n",
            "[8/100] - ptime: 54.54 loss_d: 0.964, loss_g: 1.405\n",
            "[9/100] - ptime: 54.77 loss_d: 1.019, loss_g: 1.285\n",
            "[10/100] - ptime: 54.21 loss_d: 1.071, loss_g: 1.159\n",
            "[11/100] - ptime: 54.96 loss_d: 1.051, loss_g: 1.173\n",
            "[12/100] - ptime: 54.83 loss_d: 1.061, loss_g: 1.191\n",
            "[13/100] - ptime: 55.72 loss_d: 1.063, loss_g: 1.195\n",
            "[14/100] - ptime: 54.40 loss_d: 1.028, loss_g: 1.256\n",
            "[15/100] - ptime: 54.58 loss_d: 1.036, loss_g: 1.241\n",
            "[16/100] - ptime: 53.67 loss_d: 1.077, loss_g: 1.177\n",
            "[17/100] - ptime: 55.46 loss_d: 1.087, loss_g: 1.148\n",
            "[18/100] - ptime: 54.15 loss_d: 1.099, loss_g: 1.114\n",
            "[19/100] - ptime: 54.40 loss_d: 1.098, loss_g: 1.121\n",
            "[20/100] - ptime: 54.69 loss_d: 1.114, loss_g: 1.097\n",
            "[21/100] - ptime: 56.70 loss_d: 1.112, loss_g: 1.103\n",
            "[22/100] - ptime: 55.68 loss_d: 1.120, loss_g: 1.076\n",
            "[23/100] - ptime: 55.82 loss_d: 1.135, loss_g: 1.049\n",
            "[24/100] - ptime: 56.53 loss_d: 1.145, loss_g: 1.026\n",
            "[25/100] - ptime: 57.25 loss_d: 1.144, loss_g: 1.034\n",
            "[26/100] - ptime: 57.25 loss_d: 1.145, loss_g: 1.025\n",
            "[27/100] - ptime: 57.71 loss_d: 1.164, loss_g: 1.015\n",
            "[28/100] - ptime: 56.27 loss_d: 1.177, loss_g: 0.968\n",
            "[29/100] - ptime: 55.09 loss_d: 1.187, loss_g: 0.956\n",
            "[30/100] - ptime: 56.04 loss_d: 1.189, loss_g: 0.939\n",
            "[31/100] - ptime: 57.05 loss_d: 1.183, loss_g: 0.969\n",
            "[32/100] - ptime: 57.13 loss_d: 1.183, loss_g: 0.966\n",
            "[33/100] - ptime: 57.30 loss_d: 1.188, loss_g: 0.951\n",
            "[34/100] - ptime: 57.29 loss_d: 1.182, loss_g: 0.969\n",
            "[35/100] - ptime: 57.51 loss_d: 1.192, loss_g: 0.948\n",
            "[36/100] - ptime: 57.51 loss_d: 1.205, loss_g: 0.919\n",
            "[37/100] - ptime: 57.52 loss_d: 1.199, loss_g: 0.933\n",
            "[38/100] - ptime: 57.39 loss_d: 1.200, loss_g: 0.934\n",
            "[39/100] - ptime: 57.24 loss_d: 1.212, loss_g: 0.915\n",
            "[40/100] - ptime: 57.20 loss_d: 1.212, loss_g: 0.917\n",
            "[41/100] - ptime: 57.36 loss_d: 1.212, loss_g: 0.907\n",
            "[42/100] - ptime: 56.88 loss_d: 1.235, loss_g: 0.870\n",
            "[43/100] - ptime: 57.17 loss_d: 1.224, loss_g: 0.891\n",
            "[44/100] - ptime: 57.57 loss_d: 1.228, loss_g: 0.884\n",
            "[45/100] - ptime: 57.68 loss_d: 1.238, loss_g: 0.861\n",
            "[46/100] - ptime: 57.73 loss_d: 1.238, loss_g: 0.867\n",
            "[47/100] - ptime: 57.54 loss_d: 1.245, loss_g: 0.862\n",
            "[48/100] - ptime: 57.50 loss_d: 1.228, loss_g: 0.887\n",
            "[49/100] - ptime: 57.86 loss_d: 1.234, loss_g: 0.874\n",
            "[50/100] - ptime: 57.17 loss_d: 1.243, loss_g: 0.866\n",
            "[51/100] - ptime: 56.96 loss_d: 1.237, loss_g: 0.881\n",
            "[52/100] - ptime: 55.90 loss_d: 1.248, loss_g: 0.858\n",
            "[53/100] - ptime: 56.80 loss_d: 1.235, loss_g: 0.880\n",
            "[54/100] - ptime: 57.80 loss_d: 1.242, loss_g: 0.860\n",
            "[55/100] - ptime: 57.49 loss_d: 1.245, loss_g: 0.860\n",
            "[56/100] - ptime: 57.26 loss_d: 1.253, loss_g: 0.845\n",
            "[57/100] - ptime: 57.35 loss_d: 1.257, loss_g: 0.836\n",
            "[58/100] - ptime: 56.95 loss_d: 1.256, loss_g: 0.840\n",
            "[59/100] - ptime: 56.30 loss_d: 1.258, loss_g: 0.831\n",
            "[60/100] - ptime: 57.23 loss_d: 1.249, loss_g: 0.857\n",
            "[61/100] - ptime: 57.30 loss_d: 1.240, loss_g: 0.859\n",
            "[62/100] - ptime: 57.20 loss_d: 1.248, loss_g: 0.843\n",
            "[63/100] - ptime: 57.18 loss_d: 1.272, loss_g: 0.827\n",
            "[64/100] - ptime: 56.65 loss_d: 1.262, loss_g: 0.825\n",
            "[65/100] - ptime: 56.87 loss_d: 1.259, loss_g: 0.833\n",
            "[66/100] - ptime: 56.36 loss_d: 1.272, loss_g: 0.815\n",
            "[67/100] - ptime: 57.07 loss_d: 1.274, loss_g: 0.810\n",
            "[68/100] - ptime: 58.01 loss_d: 1.270, loss_g: 0.824\n",
            "[69/100] - ptime: 56.66 loss_d: 1.263, loss_g: 0.824\n",
            "[70/100] - ptime: 57.15 loss_d: 1.274, loss_g: 0.809\n",
            "[71/100] - ptime: 56.99 loss_d: 1.276, loss_g: 0.808\n",
            "[72/100] - ptime: 57.41 loss_d: 1.271, loss_g: 0.813\n",
            "[73/100] - ptime: 56.89 loss_d: 1.273, loss_g: 0.809\n",
            "[74/100] - ptime: 57.13 loss_d: 1.275, loss_g: 0.821\n",
            "[75/100] - ptime: 57.40 loss_d: 1.265, loss_g: 0.821\n",
            "[76/100] - ptime: 57.23 loss_d: 1.274, loss_g: 0.817\n",
            "[77/100] - ptime: 56.72 loss_d: 1.272, loss_g: 0.817\n",
            "[78/100] - ptime: 57.51 loss_d: 1.271, loss_g: 0.808\n",
            "[79/100] - ptime: 56.97 loss_d: 1.274, loss_g: 0.812\n",
            "[80/100] - ptime: 56.97 loss_d: 1.289, loss_g: 0.788\n",
            "[81/100] - ptime: 57.04 loss_d: 1.281, loss_g: 0.799\n",
            "[82/100] - ptime: 56.65 loss_d: 1.281, loss_g: 0.807\n",
            "[83/100] - ptime: 57.60 loss_d: 1.282, loss_g: 0.799\n",
            "[84/100] - ptime: 57.20 loss_d: 1.274, loss_g: 0.807\n",
            "[85/100] - ptime: 57.44 loss_d: 1.284, loss_g: 0.796\n",
            "[86/100] - ptime: 58.07 loss_d: 1.280, loss_g: 0.794\n",
            "[87/100] - ptime: 57.17 loss_d: 1.280, loss_g: 0.808\n",
            "[88/100] - ptime: 57.14 loss_d: 1.278, loss_g: 0.794\n",
            "[89/100] - ptime: 57.64 loss_d: 1.288, loss_g: 0.790\n",
            "[90/100] - ptime: 56.90 loss_d: 1.292, loss_g: 0.792\n",
            "[91/100] - ptime: 57.54 loss_d: 1.285, loss_g: 0.790\n",
            "[92/100] - ptime: 56.88 loss_d: 1.281, loss_g: 0.798\n",
            "[93/100] - ptime: 57.78 loss_d: 1.291, loss_g: 0.788\n",
            "[94/100] - ptime: 57.81 loss_d: 1.287, loss_g: 0.792\n",
            "[95/100] - ptime: 57.70 loss_d: 1.290, loss_g: 0.785\n",
            "[96/100] - ptime: 57.32 loss_d: 1.287, loss_g: 0.792\n",
            "[97/100] - ptime: 57.50 loss_d: 1.283, loss_g: 0.801\n",
            "[98/100] - ptime: 57.09 loss_d: 1.292, loss_g: 0.770\n",
            "[99/100] - ptime: 57.61 loss_d: 1.295, loss_g: 0.780\n",
            "[100/100] - ptime: 57.71 loss_d: 1.291, loss_g: 0.781\n"
          ],
          "name": "stdout"
        }
      ]
    },
    {
      "metadata": {
        "id": "2-FglTkbjqd0",
        "colab_type": "code",
        "outputId": "4d4fbc66-423c-49fb-cc52-2d00896be08b",
        "colab": {
          "base_uri": "https://localhost:8080/",
          "height": 52
        }
      },
      "cell_type": "code",
      "source": [
        "end_time = time.time()\n",
        "total_ptime = end_time - start_time#100次iteration迭代结束,计算总共耗时\n",
        "train_hist['total_ptime'].append(total_ptime)\n",
        "print('Avg per epoch ptime: %.2f, total %d epochs ptime: %.2f' % (np.mean(train_hist['per_epoch_ptimes']), train_epoch, total_ptime))\n",
        "print(\"Training finish!... save training results\")"
      ],
      "execution_count": 0,
      "outputs": [
        {
          "output_type": "stream",
          "text": [
            "Avg per epoch ptime: 56.55, total 100 epochs ptime: 5881.05\n",
            "Training finish!... save training results\n"
          ],
          "name": "stdout"
        }
      ]
    },
    {
      "metadata": {
        "id": "UQPbF9YZBvlt",
        "colab_type": "code",
        "outputId": "6813a259-62d6-4d52-889c-17cb73abdb9a",
        "colab": {
          "base_uri": "https://localhost:8080/",
          "height": 401
        }
      },
      "cell_type": "code",
      "source": [
        "with open('MNIST_GAN_results/train_hist.pkl', 'wb') as f:\n",
        "    pickle.dump(train_hist, f)\n",
        "show_train_hist(train_hist, save=True, path='MNIST_GAN_results/MNIST_GAN_train_hist.png')\n",
        "images = []\n",
        "sess.close()"
      ],
      "execution_count": 0,
      "outputs": [
        {
          "output_type": "display_data",
          "data": {
            "image/png": "[encoded data removed]",
            "text/plain": [
              "<Figure size 576x396 with 1 Axes>"
            ]
          },
          "metadata": {
            "tags": []
          }
        }
      ]
    },
    {
      "metadata": {
        "id": "-rCEOIfzBzCd",
        "colab_type": "code",
        "colab": {}
      },
      "cell_type": "code",
      "source": [
        "sess.close()"
      ],
      "execution_count": 0,
      "outputs": []
    },
    {
      "metadata": {
        "id": "ryIPl0ATB01d",
        "colab_type": "code",
        "outputId": "ae16dbef-26a6-408e-b51e-cf3dfdfea4ad",
        "colab": {
          "base_uri": "https://localhost:8080/",
          "height": 401
        }
      },
      "cell_type": "code",
      "source": [
        "'''\n",
        "<实验记录>\n",
        "    第一次实验：\n",
        "        Learning Rate:       lr = 0.0002\n",
        "        Avg per epoch ptime: 19.81, total 100 epochs ptime: 7896.81\n",
        "        loss_d变化:        \n",
        "        \n",
        "        drop_out:            初次试验并没有用到,在D中定义了,在'with variable_scope' of D中placeholder传入\n",
        "        \n",
        "'''\n"
      ],
      "execution_count": 0,
      "outputs": [
        {
          "output_type": "display_data",
          "data": {
            "image/png": "[encoded data removed]",
            "text/plain": [
              "<Figure size 576x396 with 1 Axes>"
            ]
          },
          "metadata": {
            "tags": []
          }
        }
      ]
    },
    {
      "metadata": {
        "id": "AHGXFYVQK9DI",
        "colab_type": "code",
        "colab": {}
      },
      "cell_type": "code",
      "source": [
        "sess.close()"
      ],
      "execution_count": 0,
      "outputs": []
    },
    {
      "metadata": {
        "id": "zPDjtadzdC4A",
        "colab_type": "code",
        "colab": {}
      },
      "cell_type": "code",
      "source": [
        ""
      ],
      "execution_count": 0,
      "outputs": []
    },
    {
      "metadata": {
        "id": "7YNeSxzsfM8j",
        "colab_type": "code",
        "colab": {}
      },
      "cell_type": "code",
      "source": [
        ""
      ],
      "execution_count": 0,
      "outputs": []
    }
  ]
}